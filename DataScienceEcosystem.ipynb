{
  "nbformat": 4,
  "nbformat_minor": 0,
  "metadata": {
    "colab": {
      "provenance": []
    },
    "kernelspec": {
      "name": "python3",
      "display_name": "Python 3"
    },
    "language_info": {
      "name": "python"
    }
  },
  "cells": [
    {
      "cell_type": "markdown",
      "source": [
        "#Data Science Tools and Ecosystem"
      ],
      "metadata": {
        "id": "Um-uhEd3o99C"
      }
    },
    {
      "cell_type": "markdown",
      "source": [
        "In this notebook, Data Science Tools and Ecosystem are summarized."
      ],
      "metadata": {
        "id": "ZamiEPmGpcBA"
      }
    },
    {
      "cell_type": "markdown",
      "source": [
        "Some of the popular languages that Data Scientists use are:\n",
        "<ol>\n",
        "<li>Pyhton</li>\n",
        "<li>R Language </li>\n",
        "<li>Julia</li>\n",
        "</ol>\n"
      ],
      "metadata": {
        "id": "HKRu-T9mpksS"
      }
    },
    {
      "cell_type": "markdown",
      "source": [
        "Some of the commonly used libraries used by Data Scientists include:\n",
        "<ol>\n",
        "<li>Pandas</li>\n",
        "<li>Numpy </li>\n",
        "<li>Matplotlib</li>\n",
        "</ol>\n",
        "\n",
        "\n"
      ],
      "metadata": {
        "id": "hJ5-NZUtqEbD"
      }
    },
    {
      "cell_type": "markdown",
      "source": [
        "|Data Science Tools|\n",
        "|---|\n",
        "|R Studio|\n",
        "|Apache Spark|\n",
        "|Apache Hadoop|\n"
      ],
      "metadata": {
        "id": "qKQ35V8EqTSx"
      }
    },
    {
      "cell_type": "markdown",
      "source": [
        "### Below are a few examples of evaluating arithmetic expressions in Python\n",
        "\n",
        "\n",
        "1. +\n",
        "2. -\n",
        "3. /\n",
        "4. %\n",
        "5. *\n",
        "\n"
      ],
      "metadata": {
        "id": "Oy0hpc50rvy5"
      }
    },
    {
      "cell_type": "code",
      "source": [
        "#This a simple arithmetic expression to mutiply then add integers\n",
        "(3*4)+5"
      ],
      "metadata": {
        "colab": {
          "base_uri": "https://localhost:8080/"
        },
        "id": "7WmM5yJksoJN",
        "outputId": "2a4b9ee6-5437-4f42-847a-5308ad04bb88"
      },
      "execution_count": 3,
      "outputs": [
        {
          "output_type": "execute_result",
          "data": {
            "text/plain": [
              "17"
            ]
          },
          "metadata": {},
          "execution_count": 3
        }
      ]
    },
    {
      "cell_type": "code",
      "source": [
        "#This will convert 200 minutes to hours by diving by 60\n",
        "200/60"
      ],
      "metadata": {
        "colab": {
          "base_uri": "https://localhost:8080/"
        },
        "id": "uGEte16rsqCk",
        "outputId": "7b01a59b-7f6d-4627-b26a-e5766aed50a4"
      },
      "execution_count": 4,
      "outputs": [
        {
          "output_type": "execute_result",
          "data": {
            "text/plain": [
              "3.3333333333333335"
            ]
          },
          "metadata": {},
          "execution_count": 4
        }
      ]
    },
    {
      "cell_type": "markdown",
      "source": [
        "**Objectives:**\n",
        "\n",
        "\n",
        "*   List of popular languages for Data Science\n",
        "*   List of popular libraires for Data Science\n",
        "*   List of popule development enviroments for Data Science\n",
        "\n"
      ],
      "metadata": {
        "id": "dwdvWoYxs_op"
      }
    },
    {
      "cell_type": "markdown",
      "source": [
        "##Author :\n",
        "Fahri Ulkat\n"
      ],
      "metadata": {
        "id": "gdO9T5YEtpUn"
      }
    }
  ]
}